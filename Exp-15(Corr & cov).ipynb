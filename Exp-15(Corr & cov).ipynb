{
 "cells": [
  {
   "cell_type": "code",
   "execution_count": null,
   "id": "af613322",
   "metadata": {},
   "outputs": [],
   "source": [
    "import numpy as np\n",
    "import pandas as pd\n",
    "data=pd.read_csv(\"heart_cleveland_upload.csv\")\n",
    "data.head()"
   ]
  },
  {
   "cell_type": "code",
   "execution_count": null,
   "id": "bb35898f",
   "metadata": {},
   "outputs": [],
   "source": [
    "corr_matrix=data.corr()\n",
    "cov_matrix=data.cov()\n",
    "print(\"Correlation_matrix:\",corr_matrix)"
   ]
  },
  {
   "cell_type": "code",
   "execution_count": null,
   "id": "08b43b20",
   "metadata": {},
   "outputs": [],
   "source": [
    "print(\"Covariance_matrix:\",cov_matrix)"
   ]
  },
  {
   "cell_type": "code",
   "execution_count": null,
   "id": "ebcf4b93",
   "metadata": {},
   "outputs": [],
   "source": [
    "target_corr=corr_matrix['condition'].abs().sort_values(ascending=False)\n",
    "top_5_corr=target_corr[1:6]\n",
    "print(\"Top 5 correlations:\",top_5_corr)"
   ]
  },
  {
   "cell_type": "code",
   "execution_count": null,
   "id": "001e7305",
   "metadata": {},
   "outputs": [],
   "source": []
  }
 ],
 "metadata": {
  "kernelspec": {
   "display_name": "Python 3 (ipykernel)",
   "language": "python",
   "name": "python3"
  },
  "language_info": {
   "codemirror_mode": {
    "name": "ipython",
    "version": 3
   },
   "file_extension": ".py",
   "mimetype": "text/x-python",
   "name": "python",
   "nbconvert_exporter": "python",
   "pygments_lexer": "ipython3",
   "version": "3.11.5"
  }
 },
 "nbformat": 4,
 "nbformat_minor": 5
}
